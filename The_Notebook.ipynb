{
  "cells": [
    {
      "cell_type": "markdown",
      "metadata": {
        "id": "2AqPte8bet51"
      },
      "source": [
        "# Welcome To The Notebook"
      ]
    },
    {
      "cell_type": "markdown",
      "metadata": {
        "id": "1Rp80dTGpsDD"
      },
      "source": [
        "### Task 1 - Set up the project environment"
      ]
    },
    {
      "cell_type": "code",
      "execution_count": 2,
      "metadata": {
        "colab": {
          "base_uri": "https://localhost:8080/"
        },
        "id": "lx4wV2MIUJ8A",
        "outputId": "79df687b-906c-4b71-e27a-0ef96c295735"
      },
      "outputs": [
        {
          "name": "stdout",
          "output_type": "stream",
          "text": [
            "Collecting openai==1.55.3\n",
            "  Downloading openai-1.55.3-py3-none-any.whl.metadata (24 kB)\n",
            "Requirement already satisfied: python-dotenv in /usr/local/lib/python3.10/dist-packages (1.0.1)\n",
            "Requirement already satisfied: anyio<5,>=3.5.0 in /usr/local/lib/python3.10/dist-packages (from openai==1.55.3) (3.7.1)\n",
            "Requirement already satisfied: distro<2,>=1.7.0 in /usr/local/lib/python3.10/dist-packages (from openai==1.55.3) (1.9.0)\n",
            "Requirement already satisfied: httpx<1,>=0.23.0 in /usr/local/lib/python3.10/dist-packages (from openai==1.55.3) (0.28.1)\n",
            "Requirement already satisfied: jiter<1,>=0.4.0 in /usr/local/lib/python3.10/dist-packages (from openai==1.55.3) (0.8.2)\n",
            "Requirement already satisfied: pydantic<3,>=1.9.0 in /usr/local/lib/python3.10/dist-packages (from openai==1.55.3) (2.10.3)\n",
            "Requirement already satisfied: sniffio in /usr/local/lib/python3.10/dist-packages (from openai==1.55.3) (1.3.1)\n",
            "Requirement already satisfied: tqdm>4 in /usr/local/lib/python3.10/dist-packages (from openai==1.55.3) (4.67.1)\n",
            "Requirement already satisfied: typing-extensions<5,>=4.11 in /usr/local/lib/python3.10/dist-packages (from openai==1.55.3) (4.12.2)\n",
            "Requirement already satisfied: idna>=2.8 in /usr/local/lib/python3.10/dist-packages (from anyio<5,>=3.5.0->openai==1.55.3) (3.10)\n",
            "Requirement already satisfied: exceptiongroup in /usr/local/lib/python3.10/dist-packages (from anyio<5,>=3.5.0->openai==1.55.3) (1.2.2)\n",
            "Requirement already satisfied: certifi in /usr/local/lib/python3.10/dist-packages (from httpx<1,>=0.23.0->openai==1.55.3) (2024.12.14)\n",
            "Requirement already satisfied: httpcore==1.* in /usr/local/lib/python3.10/dist-packages (from httpx<1,>=0.23.0->openai==1.55.3) (1.0.7)\n",
            "Requirement already satisfied: h11<0.15,>=0.13 in /usr/local/lib/python3.10/dist-packages (from httpcore==1.*->httpx<1,>=0.23.0->openai==1.55.3) (0.14.0)\n",
            "Requirement already satisfied: annotated-types>=0.6.0 in /usr/local/lib/python3.10/dist-packages (from pydantic<3,>=1.9.0->openai==1.55.3) (0.7.0)\n",
            "Requirement already satisfied: pydantic-core==2.27.1 in /usr/local/lib/python3.10/dist-packages (from pydantic<3,>=1.9.0->openai==1.55.3) (2.27.1)\n",
            "Downloading openai-1.55.3-py3-none-any.whl (389 kB)\n",
            "\u001b[2K   \u001b[90m━━━━━━━━━━━━━━━━━━━━━━━━━━━━━━━━━━━━━━━━\u001b[0m \u001b[32m389.6/389.6 kB\u001b[0m \u001b[31m11.6 MB/s\u001b[0m eta \u001b[36m0:00:00\u001b[0m\n",
            "\u001b[?25hInstalling collected packages: openai\n",
            "  Attempting uninstall: openai\n",
            "    Found existing installation: openai 1.7.2\n",
            "    Uninstalling openai-1.7.2:\n",
            "      Successfully uninstalled openai-1.7.2\n",
            "Successfully installed openai-1.55.3\n"
          ]
        }
      ],
      "source": [
        "!pip install openai==1.55.3 python-dotenv"
      ]
    },
    {
      "cell_type": "markdown",
      "metadata": {
        "id": "qypdUNULptjB"
      },
      "source": [
        "Importing modules"
      ]
    },
    {
      "cell_type": "code",
      "execution_count": 3,
      "metadata": {
        "colab": {
          "base_uri": "https://localhost:8080/"
        },
        "id": "YFmEp0r5T2eI",
        "outputId": "8d9903a7-c7e5-49aa-b9e1-f0aa7ed678c0"
      },
      "outputs": [
        {
          "name": "stdout",
          "output_type": "stream",
          "text": [
            "Modules are imported.\n"
          ]
        }
      ],
      "source": [
        "import pandas as pd\n",
        "import os, time\n",
        "from openai import OpenAI\n",
        "from dotenv import load_dotenv\n",
        "import json\n",
        "import matplotlib.pyplot as plt\n",
        "\n",
        "print(\"Modules are imported.\")"
      ]
    },
    {
      "cell_type": "markdown",
      "metadata": {
        "id": "XfVAcV_XqDja"
      },
      "source": [
        "Setting up the OpenAI API:\n",
        "\n",
        "* Prepare a .env file to store the OpenAI API key.\n",
        "* Uploading the .env file to our colab environment\n",
        "* Load the API key and setup the API"
      ]
    },
    {
      "cell_type": "code",
      "execution_count": 4,
      "metadata": {
        "colab": {
          "base_uri": "https://localhost:8080/"
        },
        "id": "rbXC4QM4qCBe",
        "outputId": "13a4fae1-fa55-4e82-b73d-686d2fa0f467"
      },
      "outputs": [
        {
          "name": "stdout",
          "output_type": "stream",
          "text": [
            "OpenAI API is ready.\n"
          ]
        }
      ],
      "source": []
    },
    {
      "cell_type": "markdown",
      "metadata": {
        "id": "rWxipGQIpxH8"
      },
      "source": [
        "Creating OpenAI Client"
      ]
    },
    {
      "cell_type": "code",
      "execution_count": null,
      "metadata": {
        "id": "mb74YKfP9TC4"
      },
      "outputs": [],
      "source": [
        "client = OpenAI(\n",
        "  api_key=\"XXXXXXXXXXXXXXXXXXXXXXXXXXXXXXXXXXXXXXXXXXXXXXXXXXXXXXXXXXXXXXXXXXXXXXX\"\n",
        ")\n",
        "print(\"OpenAI API is ready.\")"
      ]
    },
    {
      "cell_type": "markdown",
      "metadata": {
        "id": "0r2XnfwnqTCK"
      },
      "source": [
        "### Task 2 - Prepare the training data"
      ]
    },
    {
      "cell_type": "markdown",
      "metadata": {
        "id": "-_Alc-CyuHmE"
      },
      "source": [
        "Loading the provided `Customer Complaints.csv`\n",
        "\n"
      ]
    },
    {
      "cell_type": "code",
      "execution_count": 6,
      "metadata": {
        "colab": {
          "base_uri": "https://localhost:8080/",
          "height": 206
        },
        "id": "jan2OKk5qW1J",
        "outputId": "a52c33c8-6872-4c35-b1ea-15cf4f1c3c5d"
      },
      "outputs": [
        {
          "data": {
            "application/vnd.google.colaboratory.intrinsic+json": {
              "summary": "{\n  \"name\": \"training_data\",\n  \"rows\": 67,\n  \"fields\": [\n    {\n      \"column\": \"Complaints\",\n      \"properties\": {\n        \"dtype\": \"string\",\n        \"num_unique_values\": 67,\n        \"samples\": [\n          \" Phone plan changed without consent! Unacceptable manipulation. Furious!\",\n          \" Charged for services not used! Unacceptable billing. Furious!\",\n          \" Internet speed slower than a snail! Can't stream or download anything. Frustrating!\"\n        ],\n        \"semantic_type\": \"\",\n        \"description\": \"\"\n      }\n    },\n    {\n      \"column\": \"Details\",\n      \"properties\": {\n        \"dtype\": \"string\",\n        \"num_unique_values\": 55,\n        \"samples\": [\n          \"{\\\"Topic\\\": \\\"Internet\\\", \\\"Problem\\\": \\\"Throttling\\\", \\\"Customer_Dissatisfaction_Index\\\": 85}\",\n          \"{\\\"Topic\\\": \\\"TV\\\", \\\"Problem\\\": \\\"Channels freezing\\\", \\\"Customer_Dissatisfaction_Index\\\": 85}\",\n          \"{\\\"Topic\\\": \\\"TV\\\", \\\"Problem\\\": \\\"Remote malfunction\\\", \\\"Customer_Dissatisfaction_Index\\\": 80}\"\n        ],\n        \"semantic_type\": \"\",\n        \"description\": \"\"\n      }\n    }\n  ]\n}",
              "type": "dataframe",
              "variable_name": "training_data"
            },
            "text/html": [
              "\n",
              "  <div id=\"df-461125cc-03a2-40c9-9e68-86e0c41be0a9\" class=\"colab-df-container\">\n",
              "    <div>\n",
              "<style scoped>\n",
              "    .dataframe tbody tr th:only-of-type {\n",
              "        vertical-align: middle;\n",
              "    }\n",
              "\n",
              "    .dataframe tbody tr th {\n",
              "        vertical-align: top;\n",
              "    }\n",
              "\n",
              "    .dataframe thead th {\n",
              "        text-align: right;\n",
              "    }\n",
              "</style>\n",
              "<table border=\"1\" class=\"dataframe\">\n",
              "  <thead>\n",
              "    <tr style=\"text-align: right;\">\n",
              "      <th></th>\n",
              "      <th>Complaints</th>\n",
              "      <th>Details</th>\n",
              "    </tr>\n",
              "  </thead>\n",
              "  <tbody>\n",
              "    <tr>\n",
              "      <th>0</th>\n",
              "      <td>Unreliable internet! Sick of constant outages...</td>\n",
              "      <td>{\"Topic\": \"Internet\", \"Problem\": \"Unreliable s...</td>\n",
              "    </tr>\n",
              "    <tr>\n",
              "      <th>1</th>\n",
              "      <td>TV signal keeps dropping during crucial momen...</td>\n",
              "      <td>{\"Topic\": \"TV\", \"Problem\": \"Signal dropout\", \"...</td>\n",
              "    </tr>\n",
              "    <tr>\n",
              "      <th>2</th>\n",
              "      <td>Phone line always crackling! Can't hear a thi...</td>\n",
              "      <td>{\"Topic\": \"Phone\", \"Problem\": \"Crackling line\"...</td>\n",
              "    </tr>\n",
              "    <tr>\n",
              "      <th>3</th>\n",
              "      <td>Ridiculous prices for such terrible service! ...</td>\n",
              "      <td>{\"Topic\": \"Billing\", \"Problem\": \"Overcharged\",...</td>\n",
              "    </tr>\n",
              "    <tr>\n",
              "      <th>4</th>\n",
              "      <td>Internet speed slower than a snail! Can't str...</td>\n",
              "      <td>{\"Topic\": \"Internet\", \"Problem\": \"Slow speed\",...</td>\n",
              "    </tr>\n",
              "  </tbody>\n",
              "</table>\n",
              "</div>\n",
              "    <div class=\"colab-df-buttons\">\n",
              "\n",
              "  <div class=\"colab-df-container\">\n",
              "    <button class=\"colab-df-convert\" onclick=\"convertToInteractive('df-461125cc-03a2-40c9-9e68-86e0c41be0a9')\"\n",
              "            title=\"Convert this dataframe to an interactive table.\"\n",
              "            style=\"display:none;\">\n",
              "\n",
              "  <svg xmlns=\"http://www.w3.org/2000/svg\" height=\"24px\" viewBox=\"0 -960 960 960\">\n",
              "    <path d=\"M120-120v-720h720v720H120Zm60-500h600v-160H180v160Zm220 220h160v-160H400v160Zm0 220h160v-160H400v160ZM180-400h160v-160H180v160Zm440 0h160v-160H620v160ZM180-180h160v-160H180v160Zm440 0h160v-160H620v160Z\"/>\n",
              "  </svg>\n",
              "    </button>\n",
              "\n",
              "  <style>\n",
              "    .colab-df-container {\n",
              "      display:flex;\n",
              "      gap: 12px;\n",
              "    }\n",
              "\n",
              "    .colab-df-convert {\n",
              "      background-color: #E8F0FE;\n",
              "      border: none;\n",
              "      border-radius: 50%;\n",
              "      cursor: pointer;\n",
              "      display: none;\n",
              "      fill: #1967D2;\n",
              "      height: 32px;\n",
              "      padding: 0 0 0 0;\n",
              "      width: 32px;\n",
              "    }\n",
              "\n",
              "    .colab-df-convert:hover {\n",
              "      background-color: #E2EBFA;\n",
              "      box-shadow: 0px 1px 2px rgba(60, 64, 67, 0.3), 0px 1px 3px 1px rgba(60, 64, 67, 0.15);\n",
              "      fill: #174EA6;\n",
              "    }\n",
              "\n",
              "    .colab-df-buttons div {\n",
              "      margin-bottom: 4px;\n",
              "    }\n",
              "\n",
              "    [theme=dark] .colab-df-convert {\n",
              "      background-color: #3B4455;\n",
              "      fill: #D2E3FC;\n",
              "    }\n",
              "\n",
              "    [theme=dark] .colab-df-convert:hover {\n",
              "      background-color: #434B5C;\n",
              "      box-shadow: 0px 1px 3px 1px rgba(0, 0, 0, 0.15);\n",
              "      filter: drop-shadow(0px 1px 2px rgba(0, 0, 0, 0.3));\n",
              "      fill: #FFFFFF;\n",
              "    }\n",
              "  </style>\n",
              "\n",
              "    <script>\n",
              "      const buttonEl =\n",
              "        document.querySelector('#df-461125cc-03a2-40c9-9e68-86e0c41be0a9 button.colab-df-convert');\n",
              "      buttonEl.style.display =\n",
              "        google.colab.kernel.accessAllowed ? 'block' : 'none';\n",
              "\n",
              "      async function convertToInteractive(key) {\n",
              "        const element = document.querySelector('#df-461125cc-03a2-40c9-9e68-86e0c41be0a9');\n",
              "        const dataTable =\n",
              "          await google.colab.kernel.invokeFunction('convertToInteractive',\n",
              "                                                    [key], {});\n",
              "        if (!dataTable) return;\n",
              "\n",
              "        const docLinkHtml = 'Like what you see? Visit the ' +\n",
              "          '<a target=\"_blank\" href=https://colab.research.google.com/notebooks/data_table.ipynb>data table notebook</a>'\n",
              "          + ' to learn more about interactive tables.';\n",
              "        element.innerHTML = '';\n",
              "        dataTable['output_type'] = 'display_data';\n",
              "        await google.colab.output.renderOutput(dataTable, element);\n",
              "        const docLink = document.createElement('div');\n",
              "        docLink.innerHTML = docLinkHtml;\n",
              "        element.appendChild(docLink);\n",
              "      }\n",
              "    </script>\n",
              "  </div>\n",
              "\n",
              "\n",
              "<div id=\"df-e518a37b-1da4-4628-bfb7-bcb614e737af\">\n",
              "  <button class=\"colab-df-quickchart\" onclick=\"quickchart('df-e518a37b-1da4-4628-bfb7-bcb614e737af')\"\n",
              "            title=\"Suggest charts\"\n",
              "            style=\"display:none;\">\n",
              "\n",
              "<svg xmlns=\"http://www.w3.org/2000/svg\" height=\"24px\"viewBox=\"0 0 24 24\"\n",
              "     width=\"24px\">\n",
              "    <g>\n",
              "        <path d=\"M19 3H5c-1.1 0-2 .9-2 2v14c0 1.1.9 2 2 2h14c1.1 0 2-.9 2-2V5c0-1.1-.9-2-2-2zM9 17H7v-7h2v7zm4 0h-2V7h2v10zm4 0h-2v-4h2v4z\"/>\n",
              "    </g>\n",
              "</svg>\n",
              "  </button>\n",
              "\n",
              "<style>\n",
              "  .colab-df-quickchart {\n",
              "      --bg-color: #E8F0FE;\n",
              "      --fill-color: #1967D2;\n",
              "      --hover-bg-color: #E2EBFA;\n",
              "      --hover-fill-color: #174EA6;\n",
              "      --disabled-fill-color: #AAA;\n",
              "      --disabled-bg-color: #DDD;\n",
              "  }\n",
              "\n",
              "  [theme=dark] .colab-df-quickchart {\n",
              "      --bg-color: #3B4455;\n",
              "      --fill-color: #D2E3FC;\n",
              "      --hover-bg-color: #434B5C;\n",
              "      --hover-fill-color: #FFFFFF;\n",
              "      --disabled-bg-color: #3B4455;\n",
              "      --disabled-fill-color: #666;\n",
              "  }\n",
              "\n",
              "  .colab-df-quickchart {\n",
              "    background-color: var(--bg-color);\n",
              "    border: none;\n",
              "    border-radius: 50%;\n",
              "    cursor: pointer;\n",
              "    display: none;\n",
              "    fill: var(--fill-color);\n",
              "    height: 32px;\n",
              "    padding: 0;\n",
              "    width: 32px;\n",
              "  }\n",
              "\n",
              "  .colab-df-quickchart:hover {\n",
              "    background-color: var(--hover-bg-color);\n",
              "    box-shadow: 0 1px 2px rgba(60, 64, 67, 0.3), 0 1px 3px 1px rgba(60, 64, 67, 0.15);\n",
              "    fill: var(--button-hover-fill-color);\n",
              "  }\n",
              "\n",
              "  .colab-df-quickchart-complete:disabled,\n",
              "  .colab-df-quickchart-complete:disabled:hover {\n",
              "    background-color: var(--disabled-bg-color);\n",
              "    fill: var(--disabled-fill-color);\n",
              "    box-shadow: none;\n",
              "  }\n",
              "\n",
              "  .colab-df-spinner {\n",
              "    border: 2px solid var(--fill-color);\n",
              "    border-color: transparent;\n",
              "    border-bottom-color: var(--fill-color);\n",
              "    animation:\n",
              "      spin 1s steps(1) infinite;\n",
              "  }\n",
              "\n",
              "  @keyframes spin {\n",
              "    0% {\n",
              "      border-color: transparent;\n",
              "      border-bottom-color: var(--fill-color);\n",
              "      border-left-color: var(--fill-color);\n",
              "    }\n",
              "    20% {\n",
              "      border-color: transparent;\n",
              "      border-left-color: var(--fill-color);\n",
              "      border-top-color: var(--fill-color);\n",
              "    }\n",
              "    30% {\n",
              "      border-color: transparent;\n",
              "      border-left-color: var(--fill-color);\n",
              "      border-top-color: var(--fill-color);\n",
              "      border-right-color: var(--fill-color);\n",
              "    }\n",
              "    40% {\n",
              "      border-color: transparent;\n",
              "      border-right-color: var(--fill-color);\n",
              "      border-top-color: var(--fill-color);\n",
              "    }\n",
              "    60% {\n",
              "      border-color: transparent;\n",
              "      border-right-color: var(--fill-color);\n",
              "    }\n",
              "    80% {\n",
              "      border-color: transparent;\n",
              "      border-right-color: var(--fill-color);\n",
              "      border-bottom-color: var(--fill-color);\n",
              "    }\n",
              "    90% {\n",
              "      border-color: transparent;\n",
              "      border-bottom-color: var(--fill-color);\n",
              "    }\n",
              "  }\n",
              "</style>\n",
              "\n",
              "  <script>\n",
              "    async function quickchart(key) {\n",
              "      const quickchartButtonEl =\n",
              "        document.querySelector('#' + key + ' button');\n",
              "      quickchartButtonEl.disabled = true;  // To prevent multiple clicks.\n",
              "      quickchartButtonEl.classList.add('colab-df-spinner');\n",
              "      try {\n",
              "        const charts = await google.colab.kernel.invokeFunction(\n",
              "            'suggestCharts', [key], {});\n",
              "      } catch (error) {\n",
              "        console.error('Error during call to suggestCharts:', error);\n",
              "      }\n",
              "      quickchartButtonEl.classList.remove('colab-df-spinner');\n",
              "      quickchartButtonEl.classList.add('colab-df-quickchart-complete');\n",
              "    }\n",
              "    (() => {\n",
              "      let quickchartButtonEl =\n",
              "        document.querySelector('#df-e518a37b-1da4-4628-bfb7-bcb614e737af button');\n",
              "      quickchartButtonEl.style.display =\n",
              "        google.colab.kernel.accessAllowed ? 'block' : 'none';\n",
              "    })();\n",
              "  </script>\n",
              "</div>\n",
              "\n",
              "    </div>\n",
              "  </div>\n"
            ],
            "text/plain": [
              "                                          Complaints  \\\n",
              "0   Unreliable internet! Sick of constant outages...   \n",
              "1   TV signal keeps dropping during crucial momen...   \n",
              "2   Phone line always crackling! Can't hear a thi...   \n",
              "3   Ridiculous prices for such terrible service! ...   \n",
              "4   Internet speed slower than a snail! Can't str...   \n",
              "\n",
              "                                             Details  \n",
              "0  {\"Topic\": \"Internet\", \"Problem\": \"Unreliable s...  \n",
              "1  {\"Topic\": \"TV\", \"Problem\": \"Signal dropout\", \"...  \n",
              "2  {\"Topic\": \"Phone\", \"Problem\": \"Crackling line\"...  \n",
              "3  {\"Topic\": \"Billing\", \"Problem\": \"Overcharged\",...  \n",
              "4  {\"Topic\": \"Internet\", \"Problem\": \"Slow speed\",...  "
            ]
          },
          "execution_count": 6,
          "metadata": {},
          "output_type": "execute_result"
        }
      ],
      "source": [
        "training_data = pd.read_csv(\"/content/files/Customer Complaints.csv\")\n",
        "training_data.head()"
      ]
    },
    {
      "cell_type": "markdown",
      "metadata": {
        "id": "uIK863G-qvMN"
      },
      "source": [
        "**Converting the Complaints records to json**\n",
        "\n",
        "To be able to use the data for the fine-tuning purpose, we first need to convert each row of the dataframe into the following format:\n",
        "\n",
        "<pre>\n",
        "<code>\n",
        "{\n",
        "  <span style=\"color: blue;\">\"messages\"</span>: [\n",
        "    {\n",
        "      <span style=\"color: blue;\">\"role\"</span>: <span style=\"color: red;\">\"system\"</span>,\n",
        "      <span style=\"color: blue;\">\"content\"</span>: \"<span style=\"color: green;\">Providing context about the user's prompt.\n",
        "                  It may include information about the task,\n",
        "                  instructions, or background details relevant\n",
        "                  to the conversation.</span>\"\n",
        "    },\n",
        "    {\n",
        "      <span style=\"color: blue;\">\"role\"</span>: <span style=\"color: red;\">\"user\"</span>,\n",
        "      <span style=\"color: blue;\">\"content\"</span>: \"<span style=\"color: green;\">the prompt or input provided by the user,\n",
        "                  which typically initiates the conversation with the assistant.</span>\"\n",
        "    },\n",
        "    {\n",
        "      <span style=\"color: blue;\">\"role\"</span>: <span style=\"color: red;\">\"assistant\"</span>,\n",
        "      <span style=\"color: blue;\">\"content\"</span>: \"<span style=\"color: green;\">The desired response or output generated by\n",
        "                  the assistant in response to the user's prompt.</span>\"\n",
        "    }\n",
        "  ]\n",
        "}\n",
        "</code>\n",
        "</pre>\n",
        "\n",
        "Let's get started!"
      ]
    },
    {
      "cell_type": "markdown",
      "metadata": {
        "id": "fWVCfuvRjdXa"
      },
      "source": [
        "Let's define a method that get's a row of the dataframe and convert it into the json format"
      ]
    },
    {
      "cell_type": "code",
      "execution_count": 7,
      "metadata": {
        "id": "-tHnvRamq5NK"
      },
      "outputs": [],
      "source": [
        "def save_as_json(row):\n",
        "\n",
        "  system_content = \"\"\"\n",
        "      Given a customer complaint text, extract and return the following information in json (dict) format:\n",
        "      - Topic: The product/department that the customer has a complaint about.\n",
        "      - Problem: A two or three-word description of what exactly the problem is.\n",
        "      - Customer_Dissatisfaction_Index: is a number between 0 and 100 showing\n",
        "             how angry the customer is about the problem.\n",
        "  \"\"\"\n",
        "\n",
        "  formatted_data = {\n",
        "        \"messages\": [\n",
        "            {\"role\": \"system\", \"content\": system_content},\n",
        "            {\"role\": \"user\", \"content\": row.Complaints},\n",
        "            {\"role\": \"assistant\", \"content\": row.Details}\n",
        "        ]\n",
        "      }\n",
        "\n",
        "  with open(\"training_data.json\", \"a\") as json_file:\n",
        "        json.dump(formatted_data, json_file)\n",
        "        json_file.write(\"\\n\")"
      ]
    },
    {
      "cell_type": "markdown",
      "metadata": {
        "id": "K3haPgzI-ClF"
      },
      "source": [
        "Now let's use of this method to generate the `training_data.json`"
      ]
    },
    {
      "cell_type": "code",
      "execution_count": 8,
      "metadata": {
        "id": "LNOMxwSX8dE4"
      },
      "outputs": [],
      "source": [
        "for index, row in training_data.iterrows():\n",
        "  save_as_json(row)"
      ]
    },
    {
      "cell_type": "markdown",
      "metadata": {
        "id": "Jo9HFdW0jput"
      },
      "source": [
        "### Task 3 - Fine-tune GPT 3.5 based on our training data"
      ]
    },
    {
      "cell_type": "markdown",
      "metadata": {
        "id": "h4TMhzSNj4hH"
      },
      "source": [
        "Let's import the json file we prepared as our training data"
      ]
    },
    {
      "cell_type": "code",
      "execution_count": 9,
      "metadata": {
        "id": "ExJ2cRU5-XtH"
      },
      "outputs": [],
      "source": [
        "data_file = client.files.create(\n",
        "  file=open(\"/content/training_data.json\", \"rb\"),\n",
        "  purpose='fine-tune'\n",
        ")"
      ]
    },
    {
      "cell_type": "markdown",
      "metadata": {
        "id": "TiBcO3I0kIU5"
      },
      "source": [
        "Create the Fine Tuning Job"
      ]
    },
    {
      "cell_type": "code",
      "execution_count": 11,
      "metadata": {
        "id": "BXJB348zkMSx"
      },
      "outputs": [],
      "source": [
        "fine_tuning_job = client.fine_tuning.jobs.create(\n",
        "    training_file=data_file.id,\n",
        "    model=\"gpt-3.5-turbo\",\n",
        "    hyperparameters={\n",
        "        \"n_epochs\": 1\n",
        "    }\n",
        ")"
      ]
    },
    {
      "cell_type": "markdown",
      "metadata": {
        "id": "u7XWcO_7kzY6"
      },
      "source": [
        "Let's retrieve the state of the fine-tune"
      ]
    },
    {
      "cell_type": "code",
      "execution_count": 15,
      "metadata": {
        "id": "hpbHjWu3AS4k"
      },
      "outputs": [],
      "source": [
        "retrieved_job = client.fine_tuning.jobs.retrieve(fine_tuning_job.id)\n"
      ]
    },
    {
      "cell_type": "code",
      "execution_count": 60,
      "metadata": {
        "colab": {
          "base_uri": "https://localhost:8080/"
        },
        "id": "qpPqdsXhMc1I",
        "outputId": "d301ced3-1569-4431-815b-202c78895973"
      },
      "outputs": [
        {
          "name": "stdout",
          "output_type": "stream",
          "text": [
            "running\n"
          ]
        }
      ],
      "source": [
        "print(retrieved_job.status)"
      ]
    },
    {
      "cell_type": "markdown",
      "metadata": {
        "id": "4XB-sFc3kO4A"
      },
      "source": [
        "### Task 4 - Evaluate model"
      ]
    },
    {
      "cell_type": "markdown",
      "metadata": {
        "id": "p_3bNsW3k_eR"
      },
      "source": [
        "Let's retrieve the event messages to check out the learning process of our fine-tuning job."
      ]
    },
    {
      "cell_type": "code",
      "execution_count": 61,
      "metadata": {
        "colab": {
          "base_uri": "https://localhost:8080/"
        },
        "id": "O2bif68aIEGJ",
        "outputId": "83fac470-1cfe-472f-cca7-3bc2b3b31a15"
      },
      "outputs": [
        {
          "data": {
            "text/plain": [
              "SyncCursorPage[FineTuningJobEvent](data=[FineTuningJobEvent(id='ftevent-EPQcuQPYki3agniDcRCsgcmB', created_at=1734730604, level='info', message='The job has successfully completed', object='fine_tuning.job.event', data={}, type='message'), FineTuningJobEvent(id='ftevent-as34fIJRf804LNy3JdG8flRq', created_at=1734730599, level='info', message='New fine-tuned model created', object='fine_tuning.job.event', data={}, type='message'), FineTuningJobEvent(id='ftevent-cNuf8Bjr090UAC5HgFpf6CZh', created_at=1734730561, level='info', message='Step 67/67: training loss=0.08', object='fine_tuning.job.event', data={'step': 67, 'train_loss': 0.08156128227710724, 'total_steps': 67, 'train_mean_token_accuracy': 1.0}, type='metrics'), FineTuningJobEvent(id='ftevent-nVljlLkXX2iWLsj1ZyrtXiSL', created_at=1734730559, level='info', message='Step 66/67: training loss=0.11', object='fine_tuning.job.event', data={'step': 66, 'train_loss': 0.11035133898258209, 'total_steps': 67, 'train_mean_token_accuracy': 0.9615384340286255}, type='metrics'), FineTuningJobEvent(id='ftevent-DGUfmYOk0DPWXDNktTmt886G', created_at=1734730559, level='info', message='Step 65/67: training loss=0.10', object='fine_tuning.job.event', data={'step': 65, 'train_loss': 0.10022823512554169, 'total_steps': 67, 'train_mean_token_accuracy': 0.9230769276618958}, type='metrics'), FineTuningJobEvent(id='ftevent-VH3XeFY8p8ifc6YAyRuul9UF', created_at=1734730557, level='info', message='Step 64/67: training loss=0.05', object='fine_tuning.job.event', data={'step': 64, 'train_loss': 0.05356895551085472, 'total_steps': 67, 'train_mean_token_accuracy': 1.0}, type='metrics'), FineTuningJobEvent(id='ftevent-WpaKuXDlMY7WTer3e7UKN2SI', created_at=1734730557, level='info', message='Step 63/67: training loss=0.04', object='fine_tuning.job.event', data={'step': 63, 'train_loss': 0.03980347141623497, 'total_steps': 67, 'train_mean_token_accuracy': 1.0}, type='metrics'), FineTuningJobEvent(id='ftevent-IR2E2LKSKriIlYc9PkvhSJkD', created_at=1734730554, level='info', message='Step 62/67: training loss=0.04', object='fine_tuning.job.event', data={'step': 62, 'train_loss': 0.04019276797771454, 'total_steps': 67, 'train_mean_token_accuracy': 1.0}, type='metrics'), FineTuningJobEvent(id='ftevent-UUhRN8XwH1QtWmMbcNSbILzX', created_at=1734730554, level='info', message='Step 61/67: training loss=0.06', object='fine_tuning.job.event', data={'step': 61, 'train_loss': 0.055199284106492996, 'total_steps': 67, 'train_mean_token_accuracy': 1.0}, type='metrics'), FineTuningJobEvent(id='ftevent-ybH8HSRbQYrZoQhXBWLbLbtZ', created_at=1734730552, level='info', message='Step 60/67: training loss=0.10', object='fine_tuning.job.event', data={'step': 60, 'train_loss': 0.10248268395662308, 'total_steps': 67, 'train_mean_token_accuracy': 0.9599999785423279}, type='metrics'), FineTuningJobEvent(id='ftevent-XDWMogBv1xcJRWoGNo1796Th', created_at=1734730549, level='info', message='Step 59/67: training loss=0.07', object='fine_tuning.job.event', data={'step': 59, 'train_loss': 0.0723891481757164, 'total_steps': 67, 'train_mean_token_accuracy': 0.9599999785423279}, type='metrics'), FineTuningJobEvent(id='ftevent-CPDRlI1oWKY3kpCRzTCs8X8z', created_at=1734730549, level='info', message='Step 58/67: training loss=0.29', object='fine_tuning.job.event', data={'step': 58, 'train_loss': 0.28659573197364807, 'total_steps': 67, 'train_mean_token_accuracy': 0.9259259104728699}, type='metrics'), FineTuningJobEvent(id='ftevent-KW3Rfr9bwjKLT0XKubFuxNXJ', created_at=1734730549, level='info', message='Step 57/67: training loss=0.06', object='fine_tuning.job.event', data={'step': 57, 'train_loss': 0.06343033164739609, 'total_steps': 67, 'train_mean_token_accuracy': 0.9599999785423279}, type='metrics'), FineTuningJobEvent(id='ftevent-f4PZAjr5yDazYZAnmz9Jmg7q', created_at=1734730547, level='info', message='Step 56/67: training loss=0.14', object='fine_tuning.job.event', data={'step': 56, 'train_loss': 0.13506554067134857, 'total_steps': 67, 'train_mean_token_accuracy': 0.9599999785423279}, type='metrics'), FineTuningJobEvent(id='ftevent-LogLQ7Snz4SZkrxUDh9w5Q98', created_at=1734730545, level='info', message='Step 55/67: training loss=0.46', object='fine_tuning.job.event', data={'step': 55, 'train_loss': 0.45612090826034546, 'total_steps': 67, 'train_mean_token_accuracy': 0.9259259104728699}, type='metrics'), FineTuningJobEvent(id='ftevent-g4n43WzkJoM3a855OpbY8tGr', created_at=1734730545, level='info', message='Step 54/67: training loss=0.04', object='fine_tuning.job.event', data={'step': 54, 'train_loss': 0.044820480048656464, 'total_steps': 67, 'train_mean_token_accuracy': 1.0}, type='metrics'), FineTuningJobEvent(id='ftevent-ySGnHDhlCdBZxiCS7MtQF9Ix', created_at=1734730542, level='info', message='Step 53/67: training loss=0.10', object='fine_tuning.job.event', data={'step': 53, 'train_loss': 0.09928816556930542, 'total_steps': 67, 'train_mean_token_accuracy': 0.9629629850387573}, type='metrics'), FineTuningJobEvent(id='ftevent-pBRpgT8jlFNOQum1IaGY8SCf', created_at=1734730542, level='info', message='Step 52/67: training loss=0.07', object='fine_tuning.job.event', data={'step': 52, 'train_loss': 0.06610613316297531, 'total_steps': 67, 'train_mean_token_accuracy': 1.0}, type='metrics'), FineTuningJobEvent(id='ftevent-LDRjl4am6MagZrWnse9umYtd', created_at=1734730540, level='info', message='Step 51/67: training loss=0.60', object='fine_tuning.job.event', data={'step': 51, 'train_loss': 0.6037780046463013, 'total_steps': 67, 'train_mean_token_accuracy': 0.9200000166893005}, type='metrics'), FineTuningJobEvent(id='ftevent-8BK8LMBB8MsdWRXqqtsbxVBC', created_at=1734730540, level='info', message='Step 50/67: training loss=0.54', object='fine_tuning.job.event', data={'step': 50, 'train_loss': 0.5397051572799683, 'total_steps': 67, 'train_mean_token_accuracy': 0.8518518805503845}, type='metrics'), FineTuningJobEvent(id='ftevent-YGOZlIA3HtlVmsIuEgggcvfh', created_at=1734730537, level='info', message='Step 49/67: training loss=0.58', object='fine_tuning.job.event', data={'step': 49, 'train_loss': 0.5777758359909058, 'total_steps': 67, 'train_mean_token_accuracy': 0.8518518805503845}, type='metrics'), FineTuningJobEvent(id='ftevent-7tQlLrWFIw2or8WBMIFqFmE2', created_at=1734730537, level='info', message='Step 48/67: training loss=0.10', object='fine_tuning.job.event', data={'step': 48, 'train_loss': 0.09839306026697159, 'total_steps': 67, 'train_mean_token_accuracy': 0.9333333373069763}, type='metrics'), FineTuningJobEvent(id='ftevent-I5pQX00fYKpZfKJWzEKs9PNl', created_at=1734730535, level='info', message='Step 47/67: training loss=0.13', object='fine_tuning.job.event', data={'step': 47, 'train_loss': 0.12837161123752594, 'total_steps': 67, 'train_mean_token_accuracy': 0.9615384340286255}, type='metrics'), FineTuningJobEvent(id='ftevent-TFJ328ojNudUDooSg8rUyjy7', created_at=1734730535, level='info', message='Step 46/67: training loss=0.11', object='fine_tuning.job.event', data={'step': 46, 'train_loss': 0.10929425805807114, 'total_steps': 67, 'train_mean_token_accuracy': 0.9629629850387573}, type='metrics'), FineTuningJobEvent(id='ftevent-NzlOGmfYFUWctjMnKnNkio4B', created_at=1734730533, level='info', message='Step 45/67: training loss=0.08', object='fine_tuning.job.event', data={'step': 45, 'train_loss': 0.08329589664936066, 'total_steps': 67, 'train_mean_token_accuracy': 0.9599999785423279}, type='metrics'), FineTuningJobEvent(id='ftevent-LaRtIMBIkpBCKh9PiOXiZEsD', created_at=1734730533, level='info', message='Step 44/67: training loss=0.30', object='fine_tuning.job.event', data={'step': 44, 'train_loss': 0.3001203238964081, 'total_steps': 67, 'train_mean_token_accuracy': 0.9599999785423279}, type='metrics'), FineTuningJobEvent(id='ftevent-GBVWbVDoYTaSKsQkxnjocw4w', created_at=1734730530, level='info', message='Step 43/67: training loss=0.17', object='fine_tuning.job.event', data={'step': 43, 'train_loss': 0.16764023900032043, 'total_steps': 67, 'train_mean_token_accuracy': 0.9230769276618958}, type='metrics'), FineTuningJobEvent(id='ftevent-XnVuLDlaXv6laSwyBgqSZrOV', created_at=1734730530, level='info', message='Step 42/67: training loss=0.28', object='fine_tuning.job.event', data={'step': 42, 'train_loss': 0.27868399024009705, 'total_steps': 67, 'train_mean_token_accuracy': 0.8888888955116272}, type='metrics'), FineTuningJobEvent(id='ftevent-0QT68blhyvQALUdd7g0hQ4W2', created_at=1734730528, level='info', message='Step 41/67: training loss=0.12', object='fine_tuning.job.event', data={'step': 41, 'train_loss': 0.11807872354984283, 'total_steps': 67, 'train_mean_token_accuracy': 0.9629629850387573}, type='metrics'), FineTuningJobEvent(id='ftevent-jh2LzGxiROfFvnl5tjq7YjYT', created_at=1734730528, level='info', message='Step 40/67: training loss=0.15', object='fine_tuning.job.event', data={'step': 40, 'train_loss': 0.14778289198875427, 'total_steps': 67, 'train_mean_token_accuracy': 0.9200000166893005}, type='metrics'), FineTuningJobEvent(id='ftevent-4QcSdi7fkjq9IPZcMZt2ZvSd', created_at=1734730526, level='info', message='Step 39/67: training loss=0.77', object='fine_tuning.job.event', data={'step': 39, 'train_loss': 0.7709612846374512, 'total_steps': 67, 'train_mean_token_accuracy': 0.8518518805503845}, type='metrics'), FineTuningJobEvent(id='ftevent-nh4ghEd8sQEDveas0XGL5wEj', created_at=1734730525, level='info', message='Step 38/67: training loss=0.14', object='fine_tuning.job.event', data={'step': 38, 'train_loss': 0.14202238619327545, 'total_steps': 67, 'train_mean_token_accuracy': 0.9259259104728699}, type='metrics'), FineTuningJobEvent(id='ftevent-q0U0mwI61DDLMoCsfPHxrzU4', created_at=1734730523, level='info', message='Step 37/67: training loss=0.11', object='fine_tuning.job.event', data={'step': 37, 'train_loss': 0.10903394967317581, 'total_steps': 67, 'train_mean_token_accuracy': 0.9230769276618958}, type='metrics'), FineTuningJobEvent(id='ftevent-DvSEON2SAdJGZBoW6jaTbjhe', created_at=1734730523, level='info', message='Step 36/67: training loss=0.08', object='fine_tuning.job.event', data={'step': 36, 'train_loss': 0.07766227424144745, 'total_steps': 67, 'train_mean_token_accuracy': 0.9599999785423279}, type='metrics'), FineTuningJobEvent(id='ftevent-lXRjfRLoNQ9OkmQIEOjb03bQ', created_at=1734730520, level='info', message='Step 35/67: training loss=0.93', object='fine_tuning.job.event', data={'step': 35, 'train_loss': 0.9327906370162964, 'total_steps': 67, 'train_mean_token_accuracy': 0.8518518805503845}, type='metrics'), FineTuningJobEvent(id='ftevent-sBQZphVRR9ip8gZfeRWr7l5E', created_at=1734730520, level='info', message='Step 34/67: training loss=1.04', object='fine_tuning.job.event', data={'step': 34, 'train_loss': 1.0441033840179443, 'total_steps': 67, 'train_mean_token_accuracy': 0.8518518805503845}, type='metrics'), FineTuningJobEvent(id='ftevent-wdpBVgPXZLfcJ6H0dlU3EJ5Y', created_at=1734730518, level='info', message='Step 33/67: training loss=0.14', object='fine_tuning.job.event', data={'step': 33, 'train_loss': 0.14259758591651917, 'total_steps': 67, 'train_mean_token_accuracy': 0.9200000166893005}, type='metrics'), FineTuningJobEvent(id='ftevent-Nqm2Zl1QZL8wOVz7DxeGAd4i', created_at=1734730516, level='info', message='Step 32/67: training loss=0.31', object='fine_tuning.job.event', data={'step': 32, 'train_loss': 0.3080909848213196, 'total_steps': 67, 'train_mean_token_accuracy': 0.9259259104728699}, type='metrics'), FineTuningJobEvent(id='ftevent-oJbXc3gSo9b1qGvuR9e8yClh', created_at=1734730516, level='info', message='Step 31/67: training loss=0.11', object='fine_tuning.job.event', data={'step': 31, 'train_loss': 0.10582278668880463, 'total_steps': 67, 'train_mean_token_accuracy': 0.9615384340286255}, type='metrics'), FineTuningJobEvent(id='ftevent-3vlVSZHQp0mbUEYQm0wBjAN6', created_at=1734730513, level='info', message='Step 30/67: training loss=0.23', object='fine_tuning.job.event', data={'step': 30, 'train_loss': 0.22864510118961334, 'total_steps': 67, 'train_mean_token_accuracy': 0.8846153616905212}, type='metrics'), FineTuningJobEvent(id='ftevent-M7h9gJHoglyhFIvL6EXpamRN', created_at=1734730513, level='info', message='Step 29/67: training loss=0.13', object='fine_tuning.job.event', data={'step': 29, 'train_loss': 0.13230827450752258, 'total_steps': 67, 'train_mean_token_accuracy': 0.9599999785423279}, type='metrics'), FineTuningJobEvent(id='ftevent-mAn6jYVV1pHdwfAHpLRieD2O', created_at=1734730511, level='info', message='Step 28/67: training loss=1.18', object='fine_tuning.job.event', data={'step': 28, 'train_loss': 1.1774026155471802, 'total_steps': 67, 'train_mean_token_accuracy': 0.7777777910232544}, type='metrics'), FineTuningJobEvent(id='ftevent-lYQfpwrz6trunw93ioLUamZ5', created_at=1734730511, level='info', message='Step 27/67: training loss=0.18', object='fine_tuning.job.event', data={'step': 27, 'train_loss': 0.1814720779657364, 'total_steps': 67, 'train_mean_token_accuracy': 0.9259259104728699}, type='metrics'), FineTuningJobEvent(id='ftevent-JYjEop8s9m822CM5uVPblTLZ', created_at=1734730508, level='info', message='Step 26/67: training loss=0.33', object='fine_tuning.job.event', data={'step': 26, 'train_loss': 0.3344227075576782, 'total_steps': 67, 'train_mean_token_accuracy': 0.9230769276618958}, type='metrics'), FineTuningJobEvent(id='ftevent-MuYMdP8pX2VnZzbXMgGcQbzq', created_at=1734730508, level='info', message='Step 25/67: training loss=0.11', object='fine_tuning.job.event', data={'step': 25, 'train_loss': 0.11054464429616928, 'total_steps': 67, 'train_mean_token_accuracy': 0.9615384340286255}, type='metrics'), FineTuningJobEvent(id='ftevent-UzxKJHRXKAYklxkZZDRWcDPW', created_at=1734730506, level='info', message='Step 24/67: training loss=0.07', object='fine_tuning.job.event', data={'step': 24, 'train_loss': 0.06807231903076172, 'total_steps': 67, 'train_mean_token_accuracy': 1.0}, type='metrics'), FineTuningJobEvent(id='ftevent-laXcBf489h67UAjob9hpa0GX', created_at=1734730506, level='info', message='Step 23/67: training loss=0.58', object='fine_tuning.job.event', data={'step': 23, 'train_loss': 0.5762178301811218, 'total_steps': 67, 'train_mean_token_accuracy': 0.8399999737739563}, type='metrics'), FineTuningJobEvent(id='ftevent-SH9UObSbfEf3NQipj1oIaLCr', created_at=1734730504, level='info', message='Step 22/67: training loss=0.17', object='fine_tuning.job.event', data={'step': 22, 'train_loss': 0.16683319211006165, 'total_steps': 67, 'train_mean_token_accuracy': 0.9200000166893005}, type='metrics'), FineTuningJobEvent(id='ftevent-etAtqDTA2X1k3JNIOFYhgSrs', created_at=1734730504, level='info', message='Step 21/67: training loss=0.25', object='fine_tuning.job.event', data={'step': 21, 'train_loss': 0.24875393509864807, 'total_steps': 67, 'train_mean_token_accuracy': 0.9259259104728699}, type='metrics'), FineTuningJobEvent(id='ftevent-IEWUcCNXvAWKr7ctNBtXYhpG', created_at=1734730501, level='info', message='Step 20/67: training loss=1.41', object='fine_tuning.job.event', data={'step': 20, 'train_loss': 1.413495421409607, 'total_steps': 67, 'train_mean_token_accuracy': 0.7777777910232544}, type='metrics')], object='list', has_more=True)"
            ]
          },
          "execution_count": 61,
          "metadata": {},
          "output_type": "execute_result"
        }
      ],
      "source": [
        "client.fine_tuning.jobs.list_events(fine_tuning_job_id=retrieved_job.id, limit=50)"
      ]
    },
    {
      "cell_type": "markdown",
      "metadata": {
        "id": "Pe3jUJJjyeO1"
      },
      "source": [
        "Let's extract the training loss in each learning step"
      ]
    },
    {
      "cell_type": "code",
      "execution_count": 62,
      "metadata": {
        "colab": {
          "base_uri": "https://localhost:8080/"
        },
        "id": "oqhDoVBNzW_w",
        "outputId": "0f8b035b-04b9-456d-ac78-f308ec80da77"
      },
      "outputs": [
        {
          "name": "stdout",
          "output_type": "stream",
          "text": [
            "{}\n",
            "{}\n",
            "{'step': 67, 'train_loss': 0.08156128227710724, 'total_steps': 67, 'train_mean_token_accuracy': 1.0}\n",
            "{'step': 66, 'train_loss': 0.11035133898258209, 'total_steps': 67, 'train_mean_token_accuracy': 0.9615384340286255}\n",
            "{'step': 65, 'train_loss': 0.10022823512554169, 'total_steps': 67, 'train_mean_token_accuracy': 0.9230769276618958}\n",
            "{'step': 64, 'train_loss': 0.05356895551085472, 'total_steps': 67, 'train_mean_token_accuracy': 1.0}\n",
            "{'step': 63, 'train_loss': 0.03980347141623497, 'total_steps': 67, 'train_mean_token_accuracy': 1.0}\n",
            "{'step': 62, 'train_loss': 0.04019276797771454, 'total_steps': 67, 'train_mean_token_accuracy': 1.0}\n",
            "{'step': 61, 'train_loss': 0.055199284106492996, 'total_steps': 67, 'train_mean_token_accuracy': 1.0}\n",
            "{'step': 60, 'train_loss': 0.10248268395662308, 'total_steps': 67, 'train_mean_token_accuracy': 0.9599999785423279}\n"
          ]
        }
      ],
      "source": [
        "events = list(client.fine_tuning.jobs.list_events(fine_tuning_job_id=retrieved_job.id, limit=10).data)\n",
        "for event in events:\n",
        "  print(event.data)"
      ]
    },
    {
      "cell_type": "markdown",
      "metadata": {
        "id": "iiiJIUuq2W4D"
      },
      "source": [
        "Use a line chart to visualize the train_loss in each step"
      ]
    },
    {
      "cell_type": "code",
      "execution_count": 33,
      "metadata": {
        "id": "EMRvEd-F2bLO"
      },
      "outputs": [],
      "source": [
        "from json.encoder import py_encode_basestring\n",
        "steps = []\n",
        "train_losses = []\n",
        "for e in events:\n",
        "  try:\n",
        "    steps.append(e.data[\"step\"])\n",
        "    train_losses.append(e.data[\"train_loss\"])\n",
        "  except:\n",
        "    pass"
      ]
    },
    {
      "cell_type": "code",
      "execution_count": 34,
      "metadata": {
        "colab": {
          "base_uri": "https://localhost:8080/",
          "height": 472
        },
        "id": "l2-DyG1XK0ho",
        "outputId": "2ab1b9a8-0f3c-4b02-e3b3-93f5f67631c4"
      },
      "outputs": [
        {
          "data": {
            "image/png": "[encoded data removed]",
            "text/plain": [
              "<Figure size 640x480 with 1 Axes>"
            ]
          },
          "metadata": {},
          "output_type": "display_data"
        }
      ],
      "source": [
        "plt.plot(steps, train_losses)\n",
        "plt.xlabel(\"Steps\")\n",
        "plt.ylabel(\"Train Loss\")\n",
        "plt.title(\"Training Loss Over Time\")\n",
        "plt.show()"
      ]
    },
    {
      "cell_type": "markdown",
      "metadata": {
        "id": "8lGyZnvk25q9"
      },
      "source": [
        "### Task 5 - Deploy our model"
      ]
    },
    {
      "cell_type": "markdown",
      "metadata": {
        "id": "EYljL-wH42ce"
      },
      "source": [
        "Let's take a look at `retrieved_job` again"
      ]
    },
    {
      "cell_type": "code",
      "execution_count": 59,
      "metadata": {
        "colab": {
          "base_uri": "https://localhost:8080/"
        },
        "id": "q4ChDCWo3H85",
        "outputId": "5930adc1-22c8-4dc8-c193-4a7d64fa3d3e"
      },
      "outputs": [
        {
          "data": {
            "text/plain": [
              "FineTuningJob(id='ftjob-hjxZx5B9W3TCO554jiQRKKnE', created_at=1734730302, error=Error(code=None, message=None, param=None), fine_tuned_model=None, finished_at=None, hyperparameters=Hyperparameters(n_epochs=1, batch_size=1, learning_rate_multiplier=2), model='gpt-3.5-turbo-0125', object='fine_tuning.job', organization_id='org-Vk2oQtIAJwUn5YK7CARQCz7L', result_files=[], seed=1015553830, status='running', trained_tokens=None, training_file='file-M11szJkoT5yL2LiwPPxm7X', validation_file=None, estimated_finish=None, integrations=[], user_provided_suffix=None, method={'type': 'supervised', 'supervised': {'hyperparameters': {'n_epochs': 1, 'batch_size': 1, 'learning_rate_multiplier': 2.0}}})"
            ]
          },
          "execution_count": 59,
          "metadata": {},
          "output_type": "execute_result"
        }
      ],
      "source": [
        "retrieved_job"
      ]
    },
    {
      "cell_type": "markdown",
      "metadata": {
        "id": "nLLfuwC4-h9K"
      },
      "source": [
        "Defining a method to extract information from a given user complaint using a specific LLM and return the results."
      ]
    },
    {
      "cell_type": "code",
      "execution_count": 39,
      "metadata": {
        "id": "P3_99_Hf5CV1"
      },
      "outputs": [],
      "source": [
        "def extract_details(user_complaint, model_name):\n",
        "    \"\"\"\n",
        "    This function extracts information from a given user complaint using a specific LLM (Large Language Model).\n",
        "\n",
        "    Parameters:\n",
        "    user_complaint (str): The text of the user's complaint.\n",
        "    model_name (str): The name of the specific LLM model to use for extraction.\n",
        "    \"\"\"\n",
        "\n",
        "    system_content = \"\"\"\n",
        "        Given a customer complaint text, extract and return the following information in JSON (dict) format:\n",
        "        - Topic\n",
        "        - Problem\n",
        "        - Customer_Dissatisfaction_Index\n",
        "    \"\"\"\n",
        "\n",
        "    # Generate a response using the specified model and the user's complaint\n",
        "    response = client.chat.completions.create(\n",
        "        model = model_name,\n",
        "        messages=[\n",
        "            {\"role\": \"system\", \"content\": system_content},  # System content explaining the expected output\n",
        "            {\"role\": \"user\", \"content\": user_complaint}  # User's complaint passed as content\n",
        "        ]\n",
        "    )\n",
        "\n",
        "    # Return the content of the generated response\n",
        "    return response.choices[0].message.content\n"
      ]
    },
    {
      "cell_type": "markdown",
      "metadata": {
        "id": "zE_O2zAwplof"
      },
      "source": [
        "Let's use our fine-tuned model to extract the details for the following user complaint:\n",
        "\n",
        "*TV channels keep disappearing from my subscription! What's going on? Extremely annoyed with this service!*"
      ]
    },
    {
      "cell_type": "code",
      "execution_count": 42,
      "metadata": {
        "id": "vD1dEjnzWTuw"
      },
      "outputs": [],
      "source": [
        "complaint = \"TV channels keep disappearing from my subscription! What's going on? Extremely annoyed with this service!\"\n"
      ]
    },
    {
      "cell_type": "code",
      "execution_count": 58,
      "metadata": {
        "colab": {
          "base_uri": "https://localhost:8080/",
          "height": 54
        },
        "id": "NOG4saMaMLCm",
        "outputId": "d0e502ea-83fb-4586-c337-4d716a123075"
      },
      "outputs": [
        {
          "data": {
            "application/vnd.google.colaboratory.intrinsic+json": {
              "type": "string"
            },
            "text/plain": [
              "'{\\n  \"Topic\": \"TV Subscription\",\\n  \"Problem\": \"Channels disappearing from subscription\",\\n  \"Customer_Dissatisfaction_Index\": \"High\"\\n}'"
            ]
          },
          "execution_count": 58,
          "metadata": {},
          "output_type": "execute_result"
        }
      ],
      "source": []
    },
    {
      "cell_type": "markdown",
      "metadata": {
        "id": "LJNgLZoS6-gw"
      },
      "source": [
        "Let's test our `GPT-4` model with the same user complaint"
      ]
    },
    {
      "cell_type": "code",
      "execution_count": null,
      "metadata": {
        "id": "G2XBuw0N47AC"
      },
      "outputs": [],
      "source": [
        "extract_details(complaint, \"gpt-4\")"
      ]
    },
    {
      "cell_type": "markdown",
      "metadata": {
        "id": "J3xZBAUitpVq"
      },
      "source": [
        "Let's try for the following complaint:\n",
        "\n",
        "*Line is down! It is really annoying!*"
      ]
    },
    {
      "cell_type": "code",
      "execution_count": null,
      "metadata": {
        "id": "I3O6HzK_ttZ7"
      },
      "outputs": [],
      "source": []
    },
    {
      "cell_type": "markdown",
      "metadata": {
        "id": "W4zeLRZfuNmS"
      },
      "source": [
        "Now let's compare the results from GPT-4"
      ]
    },
    {
      "cell_type": "code",
      "execution_count": null,
      "metadata": {
        "id": "6ubUkjXXuQ8X"
      },
      "outputs": [],
      "source": []
    },
    {
      "cell_type": "markdown",
      "metadata": {
        "id": "YvqSymjWueXu"
      },
      "source": [
        "We can see that our model, which is trained on our dataset, provides better answers compared to GPT-4. Our model is fine-tuned based on our data and is familiar with the different edge cases and the context of our dataset."
      ]
    },
    {
      "cell_type": "code",
      "execution_count": null,
      "metadata": {
        "id": "wVQQfAAXy-v8"
      },
      "outputs": [],
      "source": [
        "customer_complaint = \"I am very Angry! I want my money back!\""
      ]
    }
  ],
  "metadata": {
    "colab": {
      "collapsed_sections": [
        "1Rp80dTGpsDD",
        "0r2XnfwnqTCK",
        "Jo9HFdW0jput",
        "4XB-sFc3kO4A",
        "8lGyZnvk25q9"
      ],
      "provenance": []
    },
    "kernelspec": {
      "display_name": "Python 3",
      "name": "python3"
    },
    "language_info": {
      "name": "python"
    }
  },
  "nbformat": 4,
  "nbformat_minor": 0
}
